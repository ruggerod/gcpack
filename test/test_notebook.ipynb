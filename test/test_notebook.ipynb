{
 "cells": [
  {
   "cell_type": "code",
   "execution_count": 2,
   "metadata": {
    "collapsed": true
   },
   "outputs": [],
   "source": [
    "import numpy as np\n",
    "from astropy.table import Table, Column\n",
    "import sys\n",
    "\n",
    "sys.path.append('../')\n",
    "import gcpack\n",
    "import limepy"
   ]
  },
  {
   "cell_type": "code",
   "execution_count": 3,
   "metadata": {
    "collapsed": true
   },
   "outputs": [],
   "source": [
    "def limepy_cluster(N, seed=0, **kwargs):\n",
    "    \"\"\"\n",
    "    Return a Table [N, M], with M = 7 no. of star features.\n",
    "    Features are m, x, y, z, vx, vy, vz.\n",
    "    Kwargs are passed to the limepy model.\n",
    "    \"\"\"\n",
    "    if 'phi0' not in kwargs.keys():\n",
    "        phi0 = 5\n",
    "    else:\n",
    "        phi0 = kwargs['phi0']\n",
    "        del kwargs['phi0']\n",
    "    if 'g' not in kwargs.keys():\n",
    "        g = 1\n",
    "    else:\n",
    "        g = kwargs['g']\n",
    "        del kwargs['g']\n",
    "    k = limepy.limepy(phi0, g, **kwargs)\n",
    "    c = limepy.sample(k, seed=seed, N=N)\n",
    "    tab = Table([c.m, c.x, c.y, c.z, c.vx, c.vy, c.vz], \n",
    "        names=('m', 'x', 'y', 'z', 'vx', 'vy', 'vz'), \n",
    "        meta={'name': 'cluster'})\n",
    "    return tab"
   ]
  },
  {
   "cell_type": "markdown",
   "metadata": {},
   "source": [
    "# Test cluster"
   ]
  },
  {
   "cell_type": "code",
   "execution_count": 4,
   "metadata": {
    "collapsed": true
   },
   "outputs": [],
   "source": [
    "tab = limepy_cluster(10000, 0, phi0=6, g=1, M=33070, rh=2.5)"
   ]
  },
  {
   "cell_type": "code",
   "execution_count": 17,
   "metadata": {
    "collapsed": true,
    "scrolled": true
   },
   "outputs": [],
   "source": [
    "s = gcpack.Snapshot(tab)\n",
    "mmin = 0.08\n",
    "mmax = 10.0\n",
    "s['m'] = (mmax - mmin) * np.random.random_sample(len(s)) + mmin"
   ]
  },
  {
   "cell_type": "code",
   "execution_count": 29,
   "metadata": {},
   "outputs": [
    {
     "data": {
      "text/html": [
       "&lt;Snapshot length=10000&gt;\n",
       "<table id=\"table4391007056\" class=\"table-striped table-bordered table-condensed\">\n",
       "<thead><tr><th>m</th><th>x</th><th>y</th><th>z</th><th>vx</th><th>vy</th><th>vz</th><th>ciao</th></tr></thead>\n",
       "<thead><tr><th>float64</th><th>float64</th><th>float64</th><th>float64</th><th>float64</th><th>float64</th><th>float64</th><th>float64</th></tr></thead>\n",
       "<tr><td>3.64732179444</td><td>-1.46029767514</td><td>-2.36285846709</td><td>0.0817353263353</td><td>3.60610088491</td><td>-3.89170033874</td><td>-2.01941259484</td><td>1.0</td></tr>\n",
       "<tr><td>0.824840155024</td><td>-1.70121917079</td><td>0.0511920598897</td><td>3.64375106397</td><td>-1.02390787572</td><td>-1.85019233482</td><td>-1.56588068395</td><td>1.0</td></tr>\n",
       "<tr><td>8.87529476356</td><td>2.97211607343</td><td>0.820799690547</td><td>-0.478086523278</td><td>-3.14040110754</td><td>-1.680713524</td><td>-1.24700848084</td><td>1.0</td></tr>\n",
       "<tr><td>2.79830733082</td><td>-2.09057374946</td><td>-1.31451121998</td><td>1.2231138188</td><td>1.22157124305</td><td>1.2007509926</td><td>0.416074186404</td><td>1.0</td></tr>\n",
       "<tr><td>7.6746217971</td><td>-5.77125476196</td><td>1.94707301533</td><td>-2.36069087048</td><td>1.54351361639</td><td>-1.01532847862</td><td>-2.00212148724</td><td>1.0</td></tr>\n",
       "<tr><td>6.11203985832</td><td>-2.9972190502</td><td>-4.69388316157</td><td>-7.06767047684</td><td>-1.16625010403</td><td>0.984972234013</td><td>-0.620803395464</td><td>1.0</td></tr>\n",
       "<tr><td>6.62642916669</td><td>0.527641238735</td><td>1.02649004533</td><td>-1.55780109493</td><td>-4.73511647042</td><td>-4.40875474631</td><td>0.887268672376</td><td>1.0</td></tr>\n",
       "<tr><td>3.12521485744</td><td>1.15685077913</td><td>2.76367396834</td><td>3.82369941418</td><td>-1.19593000011</td><td>1.61561560977</td><td>-3.93648746766</td><td>1.0</td></tr>\n",
       "<tr><td>5.9635739566</td><td>1.23623660574</td><td>-1.12735748714</td><td>2.07034389194</td><td>0.314308861854</td><td>0.491994990653</td><td>0.193993266991</td><td>1.0</td></tr>\n",
       "<tr><td>3.53928655759</td><td>-5.94682030827</td><td>-0.153937239228</td><td>-4.42683792664</td><td>-1.32195252139</td><td>0.756300688729</td><td>0.511475639527</td><td>1.0</td></tr>\n",
       "<tr><td>...</td><td>...</td><td>...</td><td>...</td><td>...</td><td>...</td><td>...</td><td>...</td></tr>\n",
       "<tr><td>4.06286220093</td><td>0.181544853387</td><td>0.342558446831</td><td>0.509871391772</td><td>-2.37455133101</td><td>-0.693851600253</td><td>0.127440452567</td><td>1.0</td></tr>\n",
       "<tr><td>9.06877460743</td><td>0.248189850809</td><td>-0.237557892498</td><td>0.1940910446</td><td>5.79310200359</td><td>4.15999814647</td><td>-4.59977109206</td><td>1.0</td></tr>\n",
       "<tr><td>5.16896973036</td><td>-0.358293534538</td><td>-0.728530522796</td><td>-0.773900596769</td><td>-1.07397745696</td><td>-2.55677489906</td><td>5.1281265003</td><td>1.0</td></tr>\n",
       "<tr><td>2.61248089172</td><td>0.784444604021</td><td>1.34809170171</td><td>-0.596114621721</td><td>6.23702810523</td><td>0.625328974382</td><td>2.09474858498</td><td>1.0</td></tr>\n",
       "<tr><td>0.0890165724443</td><td>0.232645270219</td><td>-0.505329961002</td><td>0.348213887309</td><td>-2.18356200667</td><td>-1.72835701031</td><td>1.91386738437</td><td>1.0</td></tr>\n",
       "<tr><td>5.98687147218</td><td>-0.133545052729</td><td>-0.0200391435008</td><td>0.163188795927</td><td>3.11402742611</td><td>0.289994234869</td><td>7.41483999573</td><td>1.0</td></tr>\n",
       "<tr><td>0.839763764469</td><td>0.00476810421059</td><td>1.09741249564</td><td>0.138421892395</td><td>-5.82384545687</td><td>0.451921066644</td><td>0.363119443495</td><td>1.0</td></tr>\n",
       "<tr><td>6.68874363964</td><td>0.285551315523</td><td>0.416852422836</td><td>0.180315032037</td><td>-2.17583058207</td><td>7.47908287319</td><td>5.17735855015</td><td>1.0</td></tr>\n",
       "<tr><td>9.37643991058</td><td>0.318344586854</td><td>-0.323220583068</td><td>-0.429985895108</td><td>-1.22626421699</td><td>-1.12978785969</td><td>-2.31928859249</td><td>1.0</td></tr>\n",
       "<tr><td>6.77471196729</td><td>-0.403742927787</td><td>0.0652778508884</td><td>-0.518239060086</td><td>-2.97670487754</td><td>-3.48668584929</td><td>-2.30520213986</td><td>1.0</td></tr>\n",
       "</table>"
      ],
      "text/plain": [
       "<Snapshot length=10000>\n",
       "       m               x                y         ...        vz         ciao \n",
       "    float64         float64          float64      ...     float64     float64\n",
       "--------------- ---------------- ---------------- ... --------------- -------\n",
       "  3.64732179444   -1.46029767514   -2.36285846709 ...  -2.01941259484     1.0\n",
       " 0.824840155024   -1.70121917079  0.0511920598897 ...  -1.56588068395     1.0\n",
       "  8.87529476356    2.97211607343   0.820799690547 ...  -1.24700848084     1.0\n",
       "  2.79830733082   -2.09057374946   -1.31451121998 ...  0.416074186404     1.0\n",
       "   7.6746217971   -5.77125476196    1.94707301533 ...  -2.00212148724     1.0\n",
       "  6.11203985832    -2.9972190502   -4.69388316157 ... -0.620803395464     1.0\n",
       "  6.62642916669   0.527641238735    1.02649004533 ...  0.887268672376     1.0\n",
       "  3.12521485744    1.15685077913    2.76367396834 ...  -3.93648746766     1.0\n",
       "   5.9635739566    1.23623660574   -1.12735748714 ...  0.193993266991     1.0\n",
       "  3.53928655759   -5.94682030827  -0.153937239228 ...  0.511475639527     1.0\n",
       "            ...              ...              ... ...             ...     ...\n",
       "  4.06286220093   0.181544853387   0.342558446831 ...  0.127440452567     1.0\n",
       "  9.06877460743   0.248189850809  -0.237557892498 ...  -4.59977109206     1.0\n",
       "  5.16896973036  -0.358293534538  -0.728530522796 ...    5.1281265003     1.0\n",
       "  2.61248089172   0.784444604021    1.34809170171 ...   2.09474858498     1.0\n",
       "0.0890165724443   0.232645270219  -0.505329961002 ...   1.91386738437     1.0\n",
       "  5.98687147218  -0.133545052729 -0.0200391435008 ...   7.41483999573     1.0\n",
       " 0.839763764469 0.00476810421059    1.09741249564 ...  0.363119443495     1.0\n",
       "  6.68874363964   0.285551315523   0.416852422836 ...   5.17735855015     1.0\n",
       "  9.37643991058   0.318344586854  -0.323220583068 ...  -2.31928859249     1.0\n",
       "  6.77471196729  -0.403742927787  0.0652778508884 ...  -2.30520213986     1.0"
      ]
     },
     "execution_count": 29,
     "metadata": {},
     "output_type": "execute_result"
    }
   ],
   "source": [
    "s[\"ciao\"] = np.ones(len(s))\n",
    "s"
   ]
  },
  {
   "cell_type": "markdown",
   "metadata": {},
   "source": [
    "## Plot profiles"
   ]
  },
  {
   "cell_type": "code",
   "execution_count": 5,
   "metadata": {
    "collapsed": true
   },
   "outputs": [],
   "source": [
    "import matplotlib.pyplot as plt\n",
    "from matplotlib.ticker import ScalarFormatter \n",
    "plt.rcParams['figure.figsize'] = (10,8) \n",
    "plt.rcParams['xtick.labelsize'] = 15\n",
    "plt.rcParams['ytick.labelsize'] = 15\n",
    "plt.rcParams['axes.labelsize'] = 15\n",
    "plt.rcParams['xtick.minor.size'] = 5\n",
    "plt.rcParams['xtick.major.size'] = 10\n",
    "plt.rcParams['ytick.minor.size'] = 5\n",
    "plt.rcParams['ytick.major.size'] = 10"
   ]
  },
  {
   "cell_type": "code",
   "execution_count": 6,
   "metadata": {
    "collapsed": true
   },
   "outputs": [],
   "source": [
    "def plot_vdp(r, sig, dsig, rh=None, units=None, savepdf=None):\n",
    "    if units is not None:\n",
    "        rscale = units['rstar']\n",
    "        vscale = units['vstar']\n",
    "        xlab = r\"$r$ [pc]\"\n",
    "        ylab = r\"$\\sigma$ [km/s]\"\n",
    "    elif rh is not None:\n",
    "        rscale = 1. / rh\n",
    "        vscale = 1. / sig[0]\n",
    "        xlab = r\"$r/r_\\mathrm{h}$\"\n",
    "        ylab = r\"$\\sigma/\\sigma(0)$\"\n",
    "\n",
    "    x = r * rscale\n",
    "    y = sig * vscale\n",
    "    dy = dsig * vscale\n",
    "    fig, ax = plt.subplots()\n",
    "    ax.errorbar(x, y, yerr=dy, fmt='o')\n",
    "    ax.set_xlabel(xlab)\n",
    "    ax.set_ylabel(ylab)\n",
    "    ax.set_xscale('log')\n",
    "    ax.set_yscale('log')\n",
    "    \n",
    "    ax.xaxis.set_major_formatter(ScalarFormatter(useOffset=0))\n",
    "    ax.yaxis.set_major_formatter(ScalarFormatter(useOffset=0))\n",
    "    ax.yaxis.set_minor_formatter(ScalarFormatter(useOffset=0))\n",
    "    if savepdf is not None:\n",
    "        plt.savefig(savepdf)\n",
    "    plt.show()"
   ]
  },
  {
   "cell_type": "code",
   "execution_count": 7,
   "metadata": {},
   "outputs": [
    {
     "data": {
      "image/png": "[encoded data removed]",
      "text/plain": [
       "<matplotlib.figure.Figure at 0x1049131d0>"
      ]
     },
     "metadata": {},
     "output_type": "display_data"
    }
   ],
   "source": [
    "r, sig, dsig = gcpack.vdp(s)\n",
    "plot_vdp(r, sig, dsig, units={'rstar': 1., 'vstar': 1.})"
   ]
  },
  {
   "cell_type": "code",
   "execution_count": 8,
   "metadata": {
    "collapsed": true
   },
   "outputs": [],
   "source": [
    "# plot\n",
    "def plot_vdmp(m, sig, dsig, units, savepdf=None):\n",
    "    x = m * units['mstar']\n",
    "    y = sig / sig[0]\n",
    "    dy = dsig / sig[0]\n",
    "    fig, ax = plt.subplots()\n",
    "    ax.errorbar(x, y, yerr=dy, fmt='o')\n",
    "    ax.set_xlabel(r\"$m$ [M$_\\odot$]\")\n",
    "    ax.set_ylabel(r\"$\\sigma/\\sigma(0)$\")\n",
    "    ax.set_xscale('log')\n",
    "    ax.set_yscale('log')\n",
    "    ax.set_xticks(np.arange(min(x), max(x), 0.2))\n",
    "    ax.set_xticks(np.arange(min(x), max(x), 0.1), minor=True)\n",
    "    ax.set_xticklabels([], minor=True)\n",
    "    ax.xaxis.set_major_formatter(ScalarFormatter(useOffset=0))\n",
    "    ax.set_yticks(np.arange(0.7,1.02,0.05))\n",
    "    ax.set_yticks(np.arange(0.7,1.01,0.025), minor=True)\n",
    "    ax.set_yticklabels([], minor=True)\n",
    "    ax.yaxis.set_major_formatter(ScalarFormatter(useOffset=0))\n",
    "    if savepdf is not None:\n",
    "        plt.savefig(savepdf)\n",
    "    plt.show()"
   ]
  },
  {
   "cell_type": "code",
   "execution_count": 9,
   "metadata": {
    "collapsed": true
   },
   "outputs": [],
   "source": [
    "# m, sig, dsig = gcpack.vdmp(s)\n",
    "# plot_vdmp(m, sig, dsig, units={'mstar': 1})"
   ]
  },
  {
   "cell_type": "code",
   "execution_count": 10,
   "metadata": {
    "collapsed": true
   },
   "outputs": [],
   "source": [
    "# plot\n",
    "def plot_scdp(r, q, rh=None, units=None, savepdf=None):\n",
    "    if units is not None:\n",
    "        rscale = units['rstar']\n",
    "        qscale = units['rstar']**(-3.)\n",
    "        xlab = r\"$r$ [pc]\"\n",
    "        ylab = r\"star count [pc$^{-3}$]\"\n",
    "    elif rh is not None:\n",
    "        rscale = 1. / rh\n",
    "        qscale = 1. / q[0]\n",
    "        xlab = r\"$r/r_\\mathrm{h}$\"\n",
    "        ylab = r\"star count [normalized]\"\n",
    "\n",
    "    x = r * rscale\n",
    "    y = d * qscale\n",
    "    fig, ax = plt.subplots()\n",
    "    ax.plot(x, y, 'o')\n",
    "    ax.set_xlabel(xlab)\n",
    "    ax.set_ylabel(ylab)\n",
    "    ax.set_xscale('log')\n",
    "    ax.set_yscale('log')\n",
    "    \n",
    "    ax.xaxis.set_major_formatter(ScalarFormatter(useOffset=0))\n",
    "    ax.yaxis.set_major_formatter(ScalarFormatter(useOffset=0))\n",
    "    if savepdf is not None:\n",
    "        plt.savefig(savepdf)\n",
    "    plt.show()"
   ]
  },
  {
   "cell_type": "code",
   "execution_count": 11,
   "metadata": {},
   "outputs": [
    {
     "data": {
      "image/png": "[encoded data removed]",
      "text/plain": [
       "<matplotlib.figure.Figure at 0x180a3fe750>"
      ]
     },
     "metadata": {},
     "output_type": "display_data"
    }
   ],
   "source": [
    "r, d = gcpack.dp(s)\n",
    "plot_scdp(r, d, units={'rstar': 1})"
   ]
  },
  {
   "cell_type": "code",
   "execution_count": null,
   "metadata": {},
   "outputs": [],
   "source": []
  },
  {
   "cell_type": "code",
   "execution_count": null,
   "metadata": {
    "collapsed": true
   },
   "outputs": [],
   "source": []
  }
 ],
 "metadata": {
  "kernelspec": {
   "display_name": "Python 2",
   "language": "python",
   "name": "python2"
  },
  "language_info": {
   "codemirror_mode": {
    "name": "ipython",
    "version": 2
   },
   "file_extension": ".py",
   "mimetype": "text/x-python",
   "name": "python",
   "nbconvert_exporter": "python",
   "pygments_lexer": "ipython2",
   "version": "2.7.12"
  }
 },
 "nbformat": 4,
 "nbformat_minor": 2
}
